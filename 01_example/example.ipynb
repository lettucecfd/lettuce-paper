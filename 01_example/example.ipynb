{
 "cells": [
  {
   "cell_type": "markdown",
   "metadata": {},
   "source": [
    "# Code Example\n",
    "\n",
    "After Lettuce is installed, the user can run simulations with minimal code. The following example demonstrates a lean executable Python script that simulates a three-dimensional Taylor-Green vortex (TGV3D), one of several flows provided in the library. The Lettuce library contains all necessary functions for the simulation of different flows. After importing Lettuce, the stencil and the hardware are selected. Then, the flow, the collision model and the streaming are chosen. The Simulation class combines all information and runs the simulation.\n",
    "\n",
    "Lettuce provides various observables that can be reported during the simulation (e.g. kinetic energy, enstrophy, energy spectrum). These observables can be added easily to the \\texttt{Simulation} class and exported for further analysis.\n",
    "\n",
    "Besides, Lettuce comes with a VTK-reporter based on the PyEVTK library. This reporter exports velocity components and pressure, which both can then be visualized by third-party software."
   ]
  },
  {
   "cell_type": "code",
   "execution_count": 1,
   "metadata": {},
   "outputs": [
    {
     "name": "stdout",
     "output_type": "stream",
     "text": [
      "steps     time     IncompressibleKineticEnergy\n",
      "0 0.0 31.006267547607422\n",
      "1000 0.5668123013231932 30.29952621459961\n",
      "2000 1.1336246026463863 29.725536346435547\n",
      "3000 1.7004369039695795 29.078460693359375\n",
      "4000 2.2672492052927726 28.306407928466797\n",
      "5000 2.834061506615966 27.38650894165039\n",
      "6000 3.400873807939159 26.30689811706543\n",
      "7000 3.967686109262352 25.054094314575195\n",
      "8000 4.534498410585545 23.61884880065918\n",
      "9000 5.101310711908738 22.00782585144043\n",
      "10000 5.668123013231932 20.25336265563965\n",
      "End\n"
     ]
    }
   ],
   "source": [
    "import lettuce as lt\n",
    "lattice = lt.Lattice(stencil=lt.D3Q27, device='cuda') #or 'cpu'\n",
    "flow = lt.TaylorGreenVortex3D(\n",
    "    resolution=64,\n",
    "    reynolds_number=200,\n",
    "    mach_number=0.01,\n",
    "    lattice=lattice)\n",
    "collision = lt.BGKCollision(\n",
    "    lattice=lattice,\n",
    "    tau=flow.units.relaxation_parameter_lu)\n",
    "streaming = lt.StandardStreaming(lattice)\n",
    "simulation = lt.Simulation(\n",
    "    flow=flow,\n",
    "    lattice=lattice,\n",
    "    collision=collision,\n",
    "    streaming=streaming)\n",
    "\n",
    "energy = lt.IncompressibleKineticEnergy(lattice, flow)\n",
    "simulation.reporters.append(\n",
    "    lt.ObservableReporter(energy, interval=1000,))\n",
    "simulation.reporters.append(\n",
    "    lt.VTKReporter(\n",
    "        lattice, \n",
    "        flow, \n",
    "        interval=2500, \n",
    "        filename_base=\"./output\"))\n",
    "\n",
    "simulation.step(num_steps=10000)\n",
    "print('End')"
   ]
  },
  {
   "cell_type": "code",
   "execution_count": null,
   "metadata": {},
   "outputs": [],
   "source": []
  }
 ],
 "metadata": {
  "kernelspec": {
   "display_name": "lettuce",
   "language": "python",
   "name": "lettuce"
  },
  "language_info": {
   "codemirror_mode": {
    "name": "ipython",
    "version": 3
   },
   "file_extension": ".py",
   "mimetype": "text/x-python",
   "name": "python",
   "nbconvert_exporter": "python",
   "pygments_lexer": "ipython3",
   "version": "3.8.3"
  }
 },
 "nbformat": 4,
 "nbformat_minor": 4
}
